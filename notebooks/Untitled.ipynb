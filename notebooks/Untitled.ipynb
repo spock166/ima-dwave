{
 "cells": [
  {
   "cell_type": "code",
   "execution_count": 29,
   "metadata": {},
   "outputs": [],
   "source": [
    "from dwave.system.samplers import DWaveSampler\n",
    "from dwave.system.composites import EmbeddingComposite\n",
    "from dwave.system.composites import TilingComposite\n",
    "from dimod import SampleSet,BQM, ExactSolver\n",
    "import dimod\n",
    "\n",
    "from orang import OrangSampler\n",
    "\n",
    "import numpy as np\n",
    "\n",
    "from importlib import reload\n",
    "\n",
    "import matplotlib.pyplot as plt\n",
    "%matplotlib inline"
   ]
  },
  {
   "cell_type": "code",
   "execution_count": 62,
   "metadata": {},
   "outputs": [],
   "source": [
    "linear = {0:0, 1:0}\n",
    "quadratic = {(0,1): -1}\n",
    "bqm = BQM(linear, quadratic, 0, 'SPIN')\n",
    "\n",
    "linear2 = {0:0, 1:0, 2:0, 3:0}\n",
    "quadratic2 = {(0,1): -1, (2,3): -1}\n",
    "bqm2 = BQM(linear2, quadratic2, 0, 'SPIN')\n",
    "\n",
    "linear3 = {0:0, 1:0, 2:0, 3:0}\n",
    "quadratic3 = {(0,1): -1, (2,3): -1, (0,3):-1, (1,2):-1}\n",
    "bqm3 = BQM(linear3, quadratic3, 0, 'SPIN')"
   ]
  },
  {
   "cell_type": "code",
   "execution_count": 13,
   "metadata": {},
   "outputs": [],
   "source": [
    "dwsamp = EmbeddingComposite(DWaveSampler())"
   ]
  },
  {
   "cell_type": "code",
   "execution_count": 99,
   "metadata": {},
   "outputs": [],
   "source": [
    "r = dwsamp.sample(bqm2, num_reads=1000)"
   ]
  },
  {
   "cell_type": "code",
   "execution_count": 100,
   "metadata": {},
   "outputs": [
    {
     "data": {
      "text/plain": [
       "Sample(sample={0: 1, 1: 1, 2: 1, 3: 1}, energy=-2.0, num_occurrences=208, chain_break_fraction=0.0)"
      ]
     },
     "execution_count": 100,
     "metadata": {},
     "output_type": "execute_result"
    }
   ],
   "source": [
    "r.first"
   ]
  },
  {
   "cell_type": "code",
   "execution_count": 101,
   "metadata": {},
   "outputs": [
    {
     "data": {
      "text/plain": [
       "SampleSet(rec.array([([ 1,  1,  1,  1], -2., 208, 0.),\n",
       "           ([-1, -1, -1, -1], -2., 284, 0.),\n",
       "           ([-1, -1,  1,  1], -2., 295, 0.),\n",
       "           ([ 1,  1, -1, -1], -2., 213, 0.)],\n",
       "          dtype=[('sample', 'i1', (4,)), ('energy', '<f8'), ('num_occurrences', '<i8'), ('chain_break_fraction', '<f8')]), [0, 1, 2, 3], {'timing': {'qpu_sampling_time': 163960, 'qpu_anneal_time_per_sample': 20, 'qpu_readout_time_per_sample': 123, 'qpu_access_time': 171490, 'qpu_access_overhead_time': 1448, 'qpu_programming_time': 7530, 'qpu_delay_time_per_sample': 21, 'total_post_processing_time': 1032, 'post_processing_overhead_time': 1032, 'total_real_time': 171490, 'run_time_chip': 163960, 'anneal_time_per_run': 20, 'readout_time_per_run': 123}}, 'SPIN')"
      ]
     },
     "execution_count": 101,
     "metadata": {},
     "output_type": "execute_result"
    }
   ],
   "source": [
    "r"
   ]
  },
  {
   "cell_type": "code",
   "execution_count": 102,
   "metadata": {},
   "outputs": [],
   "source": [
    "def update_bqm(old_bqm, beta_nudge):\n",
    "    linear = {u: beta_nudge * bias for u, bias in old_bqm.linear.items()}\n",
    "    quadratic = {(u,v): beta_nudge * bias for (u,v), bias in old_bqm.quadratic.items()}\n",
    "    return dimod.BQM(linear, quadratic, offset=0, vartype=dimod.SPIN)\n",
    "\n",
    "\n",
    "def compute_energy_stats(rec):\n",
    "    \"\"\"\n",
    "\n",
    "    Args:\n",
    "        rec: SampleSet.record recarray\n",
    "\n",
    "    Returns:\n",
    "        mean energy, standard deviation, standard error\n",
    "    \"\"\"\n",
    "    mean_energy = np.sum(rec.energy * rec.num_occurrences) / rec.num_occurrences.sum()\n",
    "#     mean_energy = energies.mean()\n",
    "    var_energies = np.sum(rec.energy - mean_energy) / rec.num_occurrences.sum()\n",
    "    stderr_energies = np.sqrt(var_energies) / np.sqrt(rec.num_occurrences.sum())\n",
    "    return mean_energy, var_energies, stderr_energies"
   ]
  },
  {
   "cell_type": "code",
   "execution_count": 103,
   "metadata": {},
   "outputs": [
    {
     "data": {
      "text/plain": [
       "(-2.0, 0.0, 0.0)"
      ]
     },
     "execution_count": 103,
     "metadata": {},
     "output_type": "execute_result"
    }
   ],
   "source": [
    "compute_energy_stats(r.record)"
   ]
  },
  {
   "cell_type": "code",
   "execution_count": 104,
   "metadata": {},
   "outputs": [
    {
     "name": "stderr",
     "output_type": "stream",
     "text": [
      "/Users/jberwald/anaconda3/envs/orang/lib/python3.7/site-packages/ipykernel_launcher.py:19: RuntimeWarning: invalid value encountered in sqrt\n"
     ]
    },
    {
     "name": "stdout",
     "output_type": "stream",
     "text": [
      "0.095\n",
      "0.09\n",
      "0.08499999999999999\n",
      "0.07999999999999999\n",
      "0.07499999999999998\n",
      "0.06999999999999998\n",
      "0.06499999999999997\n",
      "0.05999999999999998\n",
      "0.05499999999999998\n",
      "0.04999999999999998\n"
     ]
    }
   ],
   "source": [
    "orang_sampler = OrangSampler()\n",
    "\n",
    "learning_rate = 0.1\n",
    "\n",
    "qpu_mean_en, qpu_var_en, pu_stderr_en = compute_energy_stats(r.record)\n",
    "\n",
    "print \n",
    "betas = [1]\n",
    "for i in range(1000):\n",
    "    \n",
    "    if (i+1) % 100 == 0:\n",
    "        learning_rate -= 0.005\n",
    "        print(learning_rate)\n",
    "    \n",
    "    new_bqm = update_bqm(bqm2, betas[-1])\n",
    "\n",
    "    resp = orang_sampler.sample(new_bqm, num_reads=1000)\n",
    "\n",
    "#     print(f'Orang energies = {resp.record.energy[:5]}')\n",
    "\n",
    "    mean_en, var_en, stderr_en = compute_energy_stats(resp.record)\n",
    "\n",
    "#     print(\"qpu_mean - mean = {}\".format(qpu_mean_en - mean_en))\n",
    "\n",
    "#     print(f'delta term = {(learning_rate / max(1, var_en)) * (qpu_mean_en - mean_en)}')\n",
    "#     beta1 = betas[-1] - (learning_rate / max(1, var_en)) * np.sign(qpu_mean_en - mean_en)\n",
    "    beta2 = betas[-1] - (learning_rate / max(1, var_en)) * (qpu_mean_en - mean_en)\n",
    "\n",
    "    betas.append(beta2)\n",
    "\n",
    "#     print(\"BETA\", betas[-1])\n"
   ]
  },
  {
   "cell_type": "code",
   "execution_count": 105,
   "metadata": {},
   "outputs": [
    {
     "name": "stdout",
     "output_type": "stream",
     "text": [
      "\n"
     ]
    },
    {
     "data": {
      "image/png": "[encoded data removed]",
      "text/plain": [
       "<Figure size 432x288 with 1 Axes>"
      ]
     },
     "metadata": {
      "needs_background": "light"
     },
     "output_type": "display_data"
    }
   ],
   "source": [
    "ax = plt.figure().gca()\n",
    "ax.plot(betas)\n",
    "ax.set_xlabel('iteration')\n",
    "ax.set_ylabel(r'$\\beta$')\n",
    "\n",
    "print()"
   ]
  },
  {
   "cell_type": "code",
   "execution_count": 92,
   "metadata": {},
   "outputs": [
    {
     "data": {
      "text/plain": [
       "1.0"
      ]
     },
     "execution_count": 92,
     "metadata": {},
     "output_type": "execute_result"
    }
   ],
   "source": [
    "np.mean(betas)"
   ]
  },
  {
   "cell_type": "markdown",
   "metadata": {},
   "source": [
    "new_bqm"
   ]
  },
  {
   "cell_type": "code",
   "execution_count": null,
   "metadata": {},
   "outputs": [],
   "source": []
  }
 ],
 "metadata": {
  "kernelspec": {
   "display_name": "Python 3",
   "language": "python",
   "name": "python3"
  },
  "language_info": {
   "codemirror_mode": {
    "name": "ipython",
    "version": 3
   },
   "file_extension": ".py",
   "mimetype": "text/x-python",
   "name": "python",
   "nbconvert_exporter": "python",
   "pygments_lexer": "ipython3",
   "version": "3.7.3"
  }
 },
 "nbformat": 4,
 "nbformat_minor": 2
}
